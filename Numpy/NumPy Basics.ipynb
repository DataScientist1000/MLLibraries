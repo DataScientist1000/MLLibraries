{
 "cells": [
  {
   "cell_type": "markdown",
   "metadata": {},
   "source": [
    "# Numpy Lib\n",
    "\n",
    "NumPy is a python library used for working with arrays. It also has functions for working in domain of linear algebra, fourier transform, and matrices."
   ]
  },
  {
   "cell_type": "code",
   "execution_count": 1,
   "metadata": {},
   "outputs": [],
   "source": [
    "# import numpy library\n",
    "\n",
    "import numpy as np\n",
    "import warnings\n",
    "warnings.filterwarnings(\"ignore\")\n",
    "from IPython.display import Image"
   ]
  },
  {
   "cell_type": "markdown",
   "metadata": {},
   "source": [
    "###### Numpy Array Creation"
   ]
  },
  {
   "cell_type": "code",
   "execution_count": 2,
   "metadata": {},
   "outputs": [
    {
     "data": {
      "text/plain": [
       "[1, 2, 3, 4, 5, 6, 7, 8, 9, 10]"
      ]
     },
     "execution_count": 2,
     "metadata": {},
     "output_type": "execute_result"
    }
   ],
   "source": [
    "list1 = [1,2,3,4,5,6,7,8,9,10]\n",
    "list1"
   ]
  },
  {
   "cell_type": "code",
   "execution_count": 6,
   "metadata": {},
   "outputs": [
    {
     "name": "stdout",
     "output_type": "stream",
     "text": [
      "[ 1  2  3  4  5  6  7  8  9 10]\n"
     ]
    },
    {
     "data": {
      "text/plain": [
       "array([ 1,  2,  3,  4,  5,  6,  7,  8,  9, 10])"
      ]
     },
     "execution_count": 6,
     "metadata": {},
     "output_type": "execute_result"
    }
   ],
   "source": [
    "#convert list to numpy array\n",
    "sampleArray = np.array(list1)\n",
    "print(sampleArray)\n",
    "sampleArray"
   ]
  },
  {
   "cell_type": "code",
   "execution_count": 7,
   "metadata": {},
   "outputs": [
    {
     "data": {
      "text/plain": [
       "<memory at 0x000001ADE034EDC8>"
      ]
     },
     "execution_count": 7,
     "metadata": {},
     "output_type": "execute_result"
    }
   ],
   "source": [
    "#Memory address of an array object\n",
    "sampleArray.data"
   ]
  },
  {
   "cell_type": "code",
   "execution_count": 11,
   "metadata": {},
   "outputs": [
    {
     "name": "stdout",
     "output_type": "stream",
     "text": [
      "<class 'list'>\n",
      "<class 'numpy.ndarray'>\n",
      "int32\n"
     ]
    },
    {
     "data": {
      "text/plain": [
       "array([ 1.,  2.,  3.,  4.,  5.,  6.,  7.,  8.,  9., 10.])"
      ]
     },
     "execution_count": 11,
     "metadata": {},
     "output_type": "execute_result"
    }
   ],
   "source": [
    "# Display the type of an object\n",
    "print(type(list1))\n",
    "print(type(sampleArray))\n",
    "print(sampleArray.dtype)\n",
    "\n",
    "#Convert Interger Array to Float\n",
    "sampleArray.astype(float)"
   ]
  },
  {
   "cell_type": "code",
   "execution_count": 16,
   "metadata": {},
   "outputs": [
    {
     "name": "stdout",
     "output_type": "stream",
     "text": [
      "[0 1 2 3 4 5 6 7 8 9]\n",
      "[ 0 10 20 30 40 50 60 70 80 90]\n",
      "[100  90  80  70  60  50  40  30  20]\n"
     ]
    }
   ],
   "source": [
    "# Generate evenly spaced numbers(space =1) between 0 to 10\n",
    "print(np.arange(0,10))\n",
    "\n",
    "# Generate numbers between 0 to 100 spaced of 10\n",
    "print(np.arange(0,100, 10))\n",
    "\n",
    "# Generate numbers between 0 to 100 spaced of 10 in a descending order\n",
    "print(np.arange(100,10, -10))\n"
   ]
  },
  {
   "cell_type": "code",
   "execution_count": 22,
   "metadata": {},
   "outputs": [
    {
     "name": "stdout",
     "output_type": "stream",
     "text": [
      "(10,)\n",
      "10\n",
      "1\n"
     ]
    }
   ],
   "source": [
    "# Shape of Array\n",
    "print(sampleArray.shape)\n",
    "\n",
    "# Size of Array\n",
    "print(sampleArray.size)\n",
    "\n",
    "# Dimension\n",
    "print(sampleArray.ndim)"
   ]
  },
  {
   "cell_type": "code",
   "execution_count": 26,
   "metadata": {},
   "outputs": [
    {
     "name": "stdout",
     "output_type": "stream",
     "text": [
      "4\n",
      "40\n",
      "10\n"
     ]
    }
   ],
   "source": [
    "# Bytes consumed by one element of an array object\n",
    "print(sampleArray.itemsize)\n",
    "\n",
    "# Bytes consumed by an array object\n",
    "print(sampleArray.nbytes)\n",
    "\n",
    "# Length of array\n",
    "print(len(sampleArray))"
   ]
  },
  {
   "cell_type": "code",
   "execution_count": 32,
   "metadata": {},
   "outputs": [
    {
     "name": "stdout",
     "output_type": "stream",
     "text": [
      "[0. 0. 0. 0. 0. 0. 0. 0. 0. 0.]\n",
      "[1. 1. 1. 1. 1. 1. 1. 1. 1. 1.]\n",
      "[10 10 10 10 10 10 10 10]\n",
      "[10 10 10 10 10]\n"
     ]
    },
    {
     "data": {
      "text/plain": [
       "array([10, 10, 20, 20, 30, 30])"
      ]
     },
     "execution_count": 32,
     "metadata": {},
     "output_type": "execute_result"
    }
   ],
   "source": [
    "# Generate an array of zeros\n",
    "print(np.zeros(10))\n",
    "\n",
    "# Generate an array of ones with a given shape\n",
    "print(np.ones(10))\n",
    "\n",
    "# Repeat 10 eight times in an array\n",
    "print(np.repeat(10,8))\n",
    "print(np.full(5,10))\n",
    "\n",
    "#Repeat each element in array 'a' twice\n",
    "a = np.array([10,20,30])\n",
    "np.repeat(a,2)"
   ]
  },
  {
   "cell_type": "code",
   "execution_count": 33,
   "metadata": {},
   "outputs": [
    {
     "data": {
      "text/plain": [
       "array([ 1,  3,  5,  7,  9, 11, 13, 15, 17, 19])"
      ]
     },
     "execution_count": 33,
     "metadata": {},
     "output_type": "execute_result"
    }
   ],
   "source": [
    "# Generating array of odd numbers\n",
    "OddNumbers = np.arange(1,20)\n",
    "OddNumbers[OddNumbers%2 == 1]"
   ]
  },
  {
   "cell_type": "code",
   "execution_count": 34,
   "metadata": {},
   "outputs": [
    {
     "data": {
      "text/plain": [
       "array([ 2,  4,  6,  8, 10, 12, 14, 16, 18])"
      ]
     },
     "execution_count": 34,
     "metadata": {},
     "output_type": "execute_result"
    }
   ],
   "source": [
    "# Generating array of even numbers\n",
    "evenNumbers = np.arange(1,20)\n",
    "evenNumbers[evenNumbers%2 == 0]"
   ]
  },
  {
   "cell_type": "code",
   "execution_count": 39,
   "metadata": {},
   "outputs": [
    {
     "name": "stdout",
     "output_type": "stream",
     "text": [
      "[10. 15. 20.]\n",
      "[10. 11. 12. 13. 14. 15. 16. 17. 18. 19. 20.]\n"
     ]
    }
   ],
   "source": [
    "# Generate evenly spaced 3 numbers between 10 and 20\n",
    "print(np.linspace(10,20, 3))\n",
    "\n",
    "print(np.linspace(10,20,11))"
   ]
  },
  {
   "cell_type": "code",
   "execution_count": 41,
   "metadata": {},
   "outputs": [
    {
     "name": "stdout",
     "output_type": "stream",
     "text": [
      "[0.41211276 0.11653015 0.163401   0.83357936 0.69446727]\n",
      "[61 92 49 64]\n"
     ]
    }
   ],
   "source": [
    "# Create an array of random values\n",
    "print(np.random.random(5))\n",
    "\n",
    "# Generate an aaray of random integer numbers\n",
    "print(np.random.randint(10,100,4))"
   ]
  },
  {
   "cell_type": "code",
   "execution_count": 62,
   "metadata": {},
   "outputs": [
    {
     "name": "stdout",
     "output_type": "stream",
     "text": [
      "[ 8 24 67 87 79]\n",
      "[6 7 5 8 8 2]\n"
     ]
    }
   ],
   "source": [
    "# Using randdom.seed we can generate same number of Random numbers\n",
    "np.random.seed(100)\n",
    "print(np.random.randint(0,100,5))\n",
    "\n",
    "np.random.seed(40)\n",
    "print(np.random.randint(0,10,6))"
   ]
  },
  {
   "cell_type": "code",
   "execution_count": 65,
   "metadata": {},
   "outputs": [
    {
     "name": "stdout",
     "output_type": "stream",
     "text": [
      "[7.00862488 9.75720048 9.31701149 9.06813108 7.11986807 8.26908169]\n",
      "[7. 9. 9. 9. 7. 8.]\n",
      "[7. 9. 9. 9. 7. 8.]\n"
     ]
    }
   ],
   "source": [
    "# Generate array of Random float numbers\n",
    "f1 = np.random.uniform(5,10,size=(6))\n",
    "print(f1)\n",
    "\n",
    "# Extract Integral part\n",
    "print(np.floor(f1))\n",
    "\n",
    "#Truncate decimal part\n",
    "print(np.trunc(f1))"
   ]
  },
  {
   "cell_type": "code",
   "execution_count": 67,
   "metadata": {},
   "outputs": [
    {
     "name": "stdout",
     "output_type": "stream",
     "text": [
      "[7 9 9 9 7 8]\n",
      "[0.57366989 0.68021732 0.21074586 0.57904755 0.61636878 0.16867147\n",
      " 0.35741126 0.0954306  0.5334993  0.28375726]\n"
     ]
    }
   ],
   "source": [
    "# Convert float array to Integer array\n",
    "print(f1.astype(int))\n",
    "\n",
    "# Normal distribution (mean=0 and variance=1)\n",
    "normalDist = np.random.rand(10)\n",
    "print(normalDist)"
   ]
  },
  {
   "cell_type": "code",
   "execution_count": 68,
   "metadata": {},
   "outputs": [
    {
     "name": "stdout",
     "output_type": "stream",
     "text": [
      "(0,) 1\n",
      "(1,) 2\n",
      "(2,) 3\n",
      "(3,) 4\n",
      "(4,) 5\n",
      "(5,) 6\n",
      "(6,) 7\n",
      "(7,) 8\n",
      "(8,) 9\n",
      "(9,) 10\n"
     ]
    }
   ],
   "source": [
    "# Enumerate for Numpy Arrays \n",
    "for index,value in np.ndenumerate(sampleArray):\n",
    "    print( index, value)"
   ]
  },
  {
   "cell_type": "markdown",
   "metadata": {},
   "source": [
    "##### Operations on Array"
   ]
  },
  {
   "cell_type": "code",
   "execution_count": 74,
   "metadata": {},
   "outputs": [
    {
     "name": "stdout",
     "output_type": "stream",
     "text": [
      "[ 1  2  3  4  5  6  7  8  9 10 11 12 13 14]\n",
      "105\n",
      "[  1   3   6  10  15  21  28  36  45  55  66  78  91 105]\n",
      "1\n",
      "14\n",
      "0\n",
      "13\n"
     ]
    }
   ],
   "source": [
    "aArray = np.arange(1,15)\n",
    "print(aArray)\n",
    "\n",
    "# Sum of all elements in an array\n",
    "print(aArray.sum())\n",
    "\n",
    "#Cumulative Sum\n",
    "print(np.cumsum(aArray))\n",
    "\n",
    "# Find minimum number in an array\n",
    "print(aArray.min())\n",
    "\n",
    "# Find maximum number in an array\n",
    "print(aArray.max())\n",
    "\n",
    "# Find the INDEX of Minimum in number in an array\n",
    "print(aArray.argmin())\n",
    "\n",
    "# Find the INDEX of Max in number in an array\n",
    "print(aArray.argmax())\n"
   ]
  },
  {
   "cell_type": "code",
   "execution_count": 80,
   "metadata": {},
   "outputs": [
    {
     "name": "stdout",
     "output_type": "stream",
     "text": [
      "Mean : 7.5\n",
      "Median : 7.5\n",
      "Variance : 16.25\n",
      "Standard Deviation 4.031128874149275\n",
      "70th Percentile 10.1\n",
      "[ 1.    4.25  7.5  10.75 14.  ]\n"
     ]
    }
   ],
   "source": [
    "# Statistical Summary on the Array\n",
    "\n",
    "# Mean of all numbers in an Array\n",
    "print(\"Mean :\",aArray.mean())\n",
    "\n",
    "# Median of all numbers in an Array\n",
    "print(\"Median :\",np.median(aArray))\n",
    "\n",
    "# Variance\n",
    "print(\"Variance :\",np.var(aArray))\n",
    "\n",
    "# Standard deviation\n",
    "print(\"Standard Deviation\",np.std(aArray))\n",
    "\n",
    "# Calculate Percentile\n",
    "print(\"70th Percentile\",np.percentile(aArray, 70))\n",
    "\n",
    "# Calculate the percentile\n",
    "print(np.percentile(aArray,[0,25,50,75,100]))"
   ]
  },
  {
   "cell_type": "markdown",
   "metadata": {},
   "source": [
    "##### Operations on a 2D Array"
   ]
  },
  {
   "cell_type": "code",
   "execution_count": 87,
   "metadata": {},
   "outputs": [
    {
     "data": {
      "text/plain": [
       "array([[ 1,  2, 13,  0],\n",
       "       [ 5,  4,  3,  2],\n",
       "       [10, 11, 12,  1],\n",
       "       [45, 24, 35,  6]])"
      ]
     },
     "execution_count": 87,
     "metadata": {},
     "output_type": "execute_result"
    }
   ],
   "source": [
    "A = np.array([[1,2,13,0],[5,4,3,2],[10,11,12,1],[45,24,35,6]])\n",
    "A"
   ]
  },
  {
   "cell_type": "code",
   "execution_count": 90,
   "metadata": {},
   "outputs": [
    {
     "name": "stdout",
     "output_type": "stream",
     "text": [
      "Max number in a 2D array : 45\n",
      "Sum of All elements in a 2D Array:  174\n",
      "Max number in a 2D array : 45\n",
      "Min number in a 2D array : 0\n",
      "[1 2 3 0]\n",
      "[0 2 1 6]\n",
      "[45 24 35  6]\n",
      "[13  5 12 45]\n"
     ]
    }
   ],
   "source": [
    "# Sum of all numbers in a 2D array \n",
    "# Max Number\n",
    "print(\"Max number in a 2D array :\", A.max())\n",
    "print(\"Sum of All elements in a 2D Array: \",A.sum())\n",
    "\n",
    "# Max Number\n",
    "print(\"Max number in a 2D array :\", A.max())\n",
    "\n",
    "# Min Number\n",
    "print(\"Min number in a 2D array :\", A.min())\n",
    "\n",
    "# Column wise minimum value\n",
    "print(np.amin(A, axis=0))\n",
    "\n",
    "# Row wise minimum value\n",
    "print(np.amin(A, axis=1))\n",
    "\n",
    "# Column wise maximum value\n",
    "print(np.amax(A, axis=0))\n",
    "\n",
    "# Row wise maximum value\n",
    "print(np.amax(A, axis=1))"
   ]
  },
  {
   "cell_type": "code",
   "execution_count": 95,
   "metadata": {},
   "outputs": [
    {
     "name": "stdout",
     "output_type": "stream",
     "text": [
      "Mean of All numbers : 10.875\n",
      "Mean of All numbers : 10.875\n",
      "Median : 5.5\n",
      "Median = 50 Percentile : 5.5\n",
      "Variance : 160.234375\n",
      "Standard Deviation : 12.658371735732839\n",
      "Percentile : [ 0.    2.    5.5  12.25 45.  ]\n"
     ]
    }
   ],
   "source": [
    "# Statistical Summary on the 2D Array\n",
    "\n",
    "print(\"Mean of All numbers :\",A.mean())\n",
    "print(\"Mean of All numbers :\",np.mean(A))\n",
    "print(\"Median :\",np.median(A))\n",
    "print(\"Median = 50 Percentile :\",np.percentile(A,50))\n",
    "print(\"Variance :\",np.var(A))\n",
    "print(\"Standard Deviation :\",np.std(A))\n",
    "print(\"Percentile :\",np.percentile(A,[0,25,50,75,100]))\n"
   ]
  },
  {
   "cell_type": "code",
   "execution_count": 96,
   "metadata": {},
   "outputs": [
    {
     "name": "stdout",
     "output_type": "stream",
     "text": [
      "(0, 0) 1\n",
      "(0, 1) 2\n",
      "(0, 2) 13\n",
      "(0, 3) 0\n",
      "(1, 0) 5\n",
      "(1, 1) 4\n",
      "(1, 2) 3\n",
      "(1, 3) 2\n",
      "(2, 0) 10\n",
      "(2, 1) 11\n",
      "(2, 2) 12\n",
      "(2, 3) 1\n",
      "(3, 0) 45\n",
      "(3, 1) 24\n",
      "(3, 2) 35\n",
      "(3, 3) 6\n"
     ]
    }
   ],
   "source": [
    "# Enumerate for Numpy 2D arrays\n",
    "for index,value in np.ndenumerate(A):\n",
    "    print(index, value)"
   ]
  },
  {
   "cell_type": "markdown",
   "metadata": {},
   "source": [
    "##### Reading elements of an Array"
   ]
  },
  {
   "cell_type": "code",
   "execution_count": 106,
   "metadata": {},
   "outputs": [
    {
     "name": "stdout",
     "output_type": "stream",
     "text": [
      "Array B: [ 7  3 10  5  2  1]\n",
      "Accessing first element of the array: 7\n",
      "Accessing all the elements of Array except first one [ 3 10  5  2  1]\n",
      "Fetching 2nd, 3rd, and 4th value from the Array [ 3 10  5]\n",
      "Reverse the elements in the Array [ 1  2  5 10  3  7]\n",
      "Fetching -3:-1 from the Array [5 2]\n"
     ]
    }
   ],
   "source": [
    "B = np.array([7,3,10,5,2,1])\n",
    "print(\"Array B:\" ,B)\n",
    "print(\"Accessing first element of the array:\", B[0])\n",
    "print(\"Accessing all the elements of Array except first one\", B[1:])\n",
    "print(\"Fetching 2nd, 3rd, and 4th value from the Array\", B[1:4])\n",
    "print(\"Reverse the elements in the Array\", B[::-1])\n",
    "print(\"Fetching -3:-1 from the Array\", B[-3:-1])"
   ]
  },
  {
   "cell_type": "markdown",
   "metadata": {},
   "source": [
    "##### Replacing the elements in an Array"
   ]
  },
  {
   "cell_type": "code",
   "execution_count": 107,
   "metadata": {},
   "outputs": [
    {
     "name": "stdout",
     "output_type": "stream",
     "text": [
      "[1 2 3 4 5]\n"
     ]
    }
   ],
   "source": [
    "C = np.arange(1,6)\n",
    "print(C)"
   ]
  },
  {
   "cell_type": "code",
   "execution_count": 110,
   "metadata": {},
   "outputs": [
    {
     "name": "stdout",
     "output_type": "stream",
     "text": [
      "[1 0 3 0 5]\n",
      "[ 1 33  3 33  5]\n"
     ]
    }
   ],
   "source": [
    "# Replace Even numbers with zero\n",
    "repl = np.where(C % 2 ==0 , 0, C)\n",
    "print(repl)\n",
    "\n",
    "#Replace o with 33 \n",
    "repl1 = np.where(repl == 0, 33, repl)\n",
    "print(repl1)"
   ]
  },
  {
   "cell_type": "code",
   "execution_count": 115,
   "metadata": {},
   "outputs": [
    {
     "name": "stdout",
     "output_type": "stream",
     "text": [
      "[ 0  2  4  6  8 10 12]\n"
     ]
    }
   ],
   "source": [
    "p1 = np.arange(0,13,2)\n",
    "print(p1)\n"
   ]
  },
  {
   "cell_type": "code",
   "execution_count": 119,
   "metadata": {},
   "outputs": [
    {
     "data": {
      "text/plain": [
       "array([10,  2,  4,  6, 44, 10, 12])"
      ]
     },
     "execution_count": 119,
     "metadata": {},
     "output_type": "execute_result"
    }
   ],
   "source": [
    "#Replace values at Index loc 0,4 with 10,44\n",
    "np.put(p1,[0,4],[10,44])\n",
    "p1"
   ]
  },
  {
   "cell_type": "code",
   "execution_count": null,
   "metadata": {},
   "outputs": [],
   "source": []
  },
  {
   "cell_type": "code",
   "execution_count": null,
   "metadata": {},
   "outputs": [],
   "source": []
  },
  {
   "cell_type": "code",
   "execution_count": null,
   "metadata": {},
   "outputs": [],
   "source": []
  },
  {
   "cell_type": "code",
   "execution_count": null,
   "metadata": {},
   "outputs": [],
   "source": []
  },
  {
   "cell_type": "code",
   "execution_count": null,
   "metadata": {},
   "outputs": [],
   "source": []
  },
  {
   "cell_type": "code",
   "execution_count": null,
   "metadata": {},
   "outputs": [],
   "source": []
  }
 ],
 "metadata": {
  "kernelspec": {
   "display_name": "Python 3",
   "language": "python",
   "name": "python3"
  },
  "language_info": {
   "codemirror_mode": {
    "name": "ipython",
    "version": 3
   },
   "file_extension": ".py",
   "mimetype": "text/x-python",
   "name": "python",
   "nbconvert_exporter": "python",
   "pygments_lexer": "ipython3",
   "version": "3.7.3"
  }
 },
 "nbformat": 4,
 "nbformat_minor": 2
}
